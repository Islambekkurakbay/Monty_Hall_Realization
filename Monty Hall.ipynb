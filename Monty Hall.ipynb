{
 "cells": [
  {
   "cell_type": "markdown",
   "id": "028dec2a",
   "metadata": {},
   "source": [
    "\n",
    "### Monty Hall problem"
   ]
  },
  {
   "cell_type": "code",
   "execution_count": 4,
   "id": "37b5dfc8",
   "metadata": {},
   "outputs": [
    {
     "name": "stdout",
     "output_type": "stream",
     "text": [
      "Your choice: 1\n",
      "There is a GOAT under  2\n",
      "You want to change your choice? yes\n",
      "You won a brand new CAR!\n",
      "1 1\n",
      "Your choice: 1\n",
      "There is a GOAT under  2\n",
      "You want to change your choice? yes\n",
      "You won a brand new CAR!\n",
      "2 2\n",
      "Your choice: 1\n",
      "There is a GOAT under  3\n",
      "You want to change your choice? yes\n",
      "You lose.\n",
      "2 3\n",
      "Your choice: 3\n",
      "There is a GOAT under  2\n",
      "You want to change your choice? yes\n",
      "You won a brand new CAR!\n",
      "3 4\n",
      "Your choice: 2\n",
      "There is a GOAT under  3\n",
      "You want to change your choice? yes\n",
      "You lose.\n",
      "3 5\n",
      "Your choice: 1\n",
      "There is a GOAT under  2\n",
      "You want to change your choice? yes\n",
      "You won a brand new CAR!\n",
      "4 6\n",
      "Your choice: 3\n",
      "There is a GOAT under  1\n",
      "You want to change your choice? yes\n",
      "You won a brand new CAR!\n",
      "5 7\n",
      "Your choice: 1\n",
      "There is a GOAT under  2\n",
      "You want to change your choice? yes\n",
      "You won a brand new CAR!\n",
      "6 8\n",
      "Your choice: 2\n",
      "There is a GOAT under  1\n",
      "You want to change your choice? yes\n",
      "You won a brand new CAR!\n",
      "7 9\n",
      "Your choice: 1\n",
      "There is a GOAT under  2\n",
      "You want to change your choice? yes\n",
      "You won a brand new CAR!\n",
      "8 10\n"
     ]
    }
   ],
   "source": [
    "import random\n",
    "count, win = 0, 0\n",
    "\n",
    "def manty_hall(win, count):\n",
    "    answer = random.choice([1,2,3])\n",
    "    user = int(input(\"Your choice: \"))\n",
    "    if(answer != user):\n",
    "        z = sum([1,2,3]) - answer - user\n",
    "        print(\"There is a GOAT under \", z)\n",
    "        another = input(\"You want to change your choice? \")\n",
    "        if(another == 'yes'):\n",
    "            user = sum([1,2,3]) - z - user\n",
    "            if(user == answer):\n",
    "                print('You won a brand new CAR!')\n",
    "                win+=1\n",
    "            else:\n",
    "                print(\"You didn't get the car\")\n",
    "        else:\n",
    "            if(user == answer):\n",
    "                print('You won a brand new CAR!')\n",
    "                win+=1\n",
    "            else:\n",
    "                print(\"You didn't get the car\")\n",
    "    else: # if answer is the user\n",
    "        z = [1,2,3]\n",
    "        z.remove(answer)\n",
    "        a = random.choice(z)\n",
    "        print(\"There is a GOAT under \", a)\n",
    "        another = input(\"You want to change your choice? \")\n",
    "        if(another == 'yes'):\n",
    "            print('You lose.')\n",
    "        else:\n",
    "            print('You won a brand new CAR!')\n",
    "            win +=1\n",
    "    count +=1\n",
    "    return win, count\n",
    "\n",
    "for i in range(10):\n",
    "    win, count = manty_hall(win, count)\n",
    "    print(win, count)"
   ]
  },
  {
   "cell_type": "code",
   "execution_count": null,
   "id": "34855035",
   "metadata": {},
   "outputs": [],
   "source": []
  }
 ],
 "metadata": {
  "kernelspec": {
   "display_name": "Python 3",
   "language": "python",
   "name": "python3"
  },
  "language_info": {
   "codemirror_mode": {
    "name": "ipython",
    "version": 3
   },
   "file_extension": ".py",
   "mimetype": "text/x-python",
   "name": "python",
   "nbconvert_exporter": "python",
   "pygments_lexer": "ipython3",
   "version": "3.8.8"
  }
 },
 "nbformat": 4,
 "nbformat_minor": 5
}
